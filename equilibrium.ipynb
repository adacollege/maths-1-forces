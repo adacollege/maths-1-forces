{
 "cells": [
  {
   "cell_type": "markdown",
   "metadata": {
    "slideshow": {
     "slide_type": "slide"
    }
   },
   "source": [
    "## Random forces in equilibrium generator"
   ]
  },
  {
   "cell_type": "markdown",
   "metadata": {
    "slideshow": {
     "slide_type": "-"
    }
   },
   "source": [
    "Two versions\n",
    "\n",
    "* vectors\n",
    "* magnitudes and directions"
   ]
  },
  {
   "cell_type": "code",
   "execution_count": null,
   "metadata": {
    "slideshow": {
     "slide_type": "skip"
    }
   },
   "outputs": [],
   "source": [
    "import numpy as np\n",
    "import matplotlib.pyplot as plt\n",
    "from IPython.display import display, Math, Latex\n",
    "%matplotlib inline"
   ]
  },
  {
   "cell_type": "code",
   "execution_count": null,
   "metadata": {
    "slideshow": {
     "slide_type": "skip"
    }
   },
   "outputs": [],
   "source": [
    "plt.style.use('seaborn')"
   ]
  },
  {
   "cell_type": "markdown",
   "metadata": {
    "slideshow": {
     "slide_type": "subslide"
    }
   },
   "source": [
    "### As vectors"
   ]
  },
  {
   "cell_type": "code",
   "execution_count": null,
   "metadata": {
    "hide_input": true,
    "scrolled": false,
    "slideshow": {
     "slide_type": "subslide"
    }
   },
   "outputs": [],
   "source": [
    "F1 = (np.random.randint(-9,9),np.random.randint(-9,9))\n",
    "F2 = (np.random.randint(-9,9),np.random.randint(-9,9))\n",
    "F3 = tuple(np.subtract((0,0),np.add(F1,F2)))\n",
    "display(Math(r'\\text{The three forces, $F_1$, $F_2$ and $F_3$, are in equilibrium.}'))\n",
    "display(Math(r'F_1=\\left(\\begin{{array}}{{r}} {}\\\\{}\\end{{array}}\\right)\\,F_2=\\left(\\begin{{array}}{{r}} {}\\\\{}\\end{{array}}\\right)'.format(*F1,*F2)))\n",
    "display(Math(r'\\text{Find $F_3$}'))\n",
    "minx = min([F[0] for F in [F1,F2,F3]])-1\n",
    "maxx = max([F[0] for F in [F1,F2,F3]])+1\n",
    "miny = min([F[1] for F in [F1,F2,F3]])-1\n",
    "maxy = max([F[1] for F in [F1,F2,F3]])+1\n",
    "ax = plt.axes(xlim=(minx,maxx),ylim=(miny,maxy))\n",
    "ax.set_axis_off()\n",
    "ax.set_aspect('equal')\n",
    "ax.arrow(0,0,*F1,fc=\"k\", ec=\"k\",head_width=0.5, head_length=1)\n",
    "ax.arrow(0,0,*F2,fc=\"k\", ec=\"k\",head_width=0.5, head_length=1)\n",
    "plt.show()"
   ]
  },
  {
   "cell_type": "code",
   "execution_count": null,
   "metadata": {
    "hide_input": true,
    "scrolled": false,
    "slideshow": {
     "slide_type": "subslide"
    }
   },
   "outputs": [],
   "source": [
    "display(Math(r'F_3=\\left(\\begin{{array}}{{r}} {}\\\\{}\\end{{array}}\\right)'.format(*F3)))\n",
    "ax = plt.axes(xlim=(minx,maxx),ylim=(miny,maxy))\n",
    "ax.set_axis_off()\n",
    "ax.set_aspect('equal')\n",
    "ax.arrow(0,0,*F1,fc=\"k\", ec=\"k\",head_width=0.5, head_length=1)\n",
    "ax.arrow(0,0,*F2,fc=\"k\", ec=\"k\",head_width=0.5, head_length=1)\n",
    "ax.arrow(0,0,*F3,fc=\"k\", ec=\"k\",head_width=0.5, head_length=1)\n",
    "plt.show()"
   ]
  },
  {
   "cell_type": "markdown",
   "metadata": {
    "slideshow": {
     "slide_type": "subslide"
    }
   },
   "source": [
    "### In magnitude, direction form"
   ]
  },
  {
   "cell_type": "code",
   "execution_count": null,
   "metadata": {
    "hide_input": true,
    "slideshow": {
     "slide_type": "subslide"
    }
   },
   "outputs": [],
   "source": [
    "M1 = np.random.randint(0,16)\n",
    "D1 = np.random.randint(0,360)\n",
    "F1 = (M1*np.cos(D1*np.pi/180),M1*np.sin(D1*np.pi/180))\n",
    "M2 = np.random.randint(0,16)\n",
    "D2 = np.random.randint(0,360)\n",
    "F2 = (M2*np.cos(D2*np.pi/180),M2*np.sin(D2*np.pi/180))\n",
    "F3 = tuple(np.subtract((0,0),np.add(F1,F2)))\n",
    "M3 = np.sqrt(F3[0]**2+F3[1]**2)\n",
    "D = np.arctan2(F3[1],F3[0])\n",
    "if D >= 0:\n",
    "    D3 = D*180/np.pi\n",
    "else:\n",
    "    D3 = 360 + D*180/np.pi\n",
    "display(Math(r'\\text{The three forces, $F_1$, $F_2$ and $F_3$, are in equilibrium.}'))\n",
    "display(Math(r'F_1=({},{}^\\circ)'.format(M1,D1)))\n",
    "display(Math(r'F_2=({},{}^\\circ)'.format(M2,D2)))\n",
    "display(Math(r'\\text{Find $F_3$}'))\n",
    "minx = min([F[0] for F in [F1,F2,F3]])-1\n",
    "maxx = max([F[0] for F in [F1,F2,F3]])+1\n",
    "miny = min([F[1] for F in [F1,F2,F3]])-1\n",
    "maxy = max([F[1] for F in [F1,F2,F3]])+1\n",
    "ax = plt.axes(xlim=(minx,maxx),ylim=(miny,maxy))\n",
    "ax.set_axis_off()\n",
    "ax.set_aspect('equal')\n",
    "ax.arrow(0,0,*F1,fc=\"k\", ec=\"k\",head_width=1, head_length=1)\n",
    "ax.arrow(0,0,*F2,fc=\"k\", ec=\"k\",head_width=1, head_length=1)\n",
    "plt.show()"
   ]
  },
  {
   "cell_type": "code",
   "execution_count": null,
   "metadata": {
    "hide_input": true,
    "slideshow": {
     "slide_type": "subslide"
    }
   },
   "outputs": [],
   "source": [
    "display(Math(r'F_3=({:2},{}^\\circ)'.format(round(M3,2),round(D3,2))))\n",
    "ax = plt.axes(xlim=(minx,maxx),ylim=(miny,maxy))\n",
    "ax.set_axis_off()\n",
    "ax.set_aspect('equal')\n",
    "ax.arrow(0,0,*F1,fc=\"k\", ec=\"k\",head_width=1, head_length=1)\n",
    "ax.arrow(0,0,*F2,fc=\"k\", ec=\"k\",head_width=1, head_length=1)\n",
    "ax.arrow(0,0,*F3,fc=\"k\", ec=\"k\",head_width=1, head_length=1)\n",
    "plt.show()"
   ]
  }
 ],
 "metadata": {
  "celltoolbar": "Slideshow",
  "kernelspec": {
   "display_name": "Python 3",
   "language": "python",
   "name": "python3"
  },
  "language_info": {
   "codemirror_mode": {
    "name": "ipython",
    "version": 3
   },
   "file_extension": ".py",
   "mimetype": "text/x-python",
   "name": "python",
   "nbconvert_exporter": "python",
   "pygments_lexer": "ipython3",
   "version": "3.5.2"
  }
 },
 "nbformat": 4,
 "nbformat_minor": 2
}
